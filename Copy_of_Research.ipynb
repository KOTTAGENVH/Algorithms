{
  "nbformat": 4,
  "nbformat_minor": 0,
  "metadata": {
    "colab": {
      "provenance": [],
      "include_colab_link": true
    },
    "kernelspec": {
      "name": "python3",
      "display_name": "Python 3"
    },
    "language_info": {
      "name": "python"
    }
  },
  "cells": [
    {
      "cell_type": "markdown",
      "metadata": {
        "id": "view-in-github",
        "colab_type": "text"
      },
      "source": [
        "<a href=\"https://colab.research.google.com/github/KOTTAGENVH/Algorithms/blob/main/Copy_of_Research.ipynb\" target=\"_parent\"><img src=\"https://colab.research.google.com/assets/colab-badge.svg\" alt=\"Open In Colab\"/></a>"
      ]
    },
    {
      "cell_type": "markdown",
      "source": [
        "**Frames Extraction**\n"
      ],
      "metadata": {
        "id": "Ra1aomFq_PW3"
      }
    },
    {
      "cell_type": "code",
      "execution_count": null,
      "metadata": {
        "id": "v5V5dJ7i8eG6"
      },
      "outputs": [],
      "source": [
        "import cv2\n",
        "import os\n",
        "\n",
        "def extract_frames(video_path, output_folder):\n",
        "    # Create output folder if it doesn't exist\n",
        "    if not os.path.exists(output_folder):\n",
        "        os.makedirs(output_folder)\n",
        "\n",
        "    # Open the video file\n",
        "    cap = cv2.VideoCapture(video_path)\n",
        "\n",
        "    # Get the frame rate of the video\n",
        "    fps = cap.get(cv2.CAP_PROP_FPS)\n",
        "\n",
        "    # Initialize variables\n",
        "    frame_count = 0\n",
        "    success = True\n",
        "\n",
        "    # Iterate through the video\n",
        "    while success:\n",
        "        # Set the frame position to the current second\n",
        "        cap.set(cv2.CAP_PROP_POS_FRAMES, int(frame_count * fps))\n",
        "\n",
        "        # Read the frame\n",
        "        success, frame = cap.read()\n",
        "\n",
        "        # If successful, save the frame as a .jpg image\n",
        "        if success:\n",
        "            cv2.imwrite(os.path.join(output_folder, f\"frame_{int(frame_count * fps)}.jpg\"), frame)\n",
        "            frame_count += 0.2\n",
        "\n",
        "    # Release the VideoCapture object\n",
        "    cap.release()\n",
        "\n",
        "# Provide the path to the video file\n",
        "video_path = '/content/video1.mp4'\n",
        "\n",
        "# Provide the path to the output folder where frames will be saved\n",
        "output_folder = '/content/Sample'\n",
        "\n",
        "# Call the function to extract frames\n",
        "extract_frames(video_path, output_folder)\n"
      ]
    },
    {
      "cell_type": "markdown",
      "source": [],
      "metadata": {
        "id": "BNB2A1_u_Nk0"
      }
    }
  ]
}